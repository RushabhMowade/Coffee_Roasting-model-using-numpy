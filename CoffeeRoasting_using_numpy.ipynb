{
  "nbformat": 4,
  "nbformat_minor": 0,
  "metadata": {
    "colab": {
      "provenance": []
    },
    "kernelspec": {
      "name": "python3",
      "display_name": "Python 3"
    },
    "language_info": {
      "name": "python"
    }
  },
  "cells": [
    {
      "cell_type": "markdown",
      "source": [
        "# **CoffeeRoasting_using_numpy**\n",
        "\n",
        "This project focuses on building a prediction model, \"Coffee Roasting predictive model \". The model uses two features, Temperature in Celsius and Duration in minutes, to predict the probability of achieving a good coffee roast. The project follows the guidelines provided by \"Coffee Roasting at Home,\" aiming for a duration between 12 and 15 minutes and a temperature between 175 and 260 degrees Celsius. The model outputs probabilities, and a threshold of 0.5 is applied to make binary decisions."
      ],
      "metadata": {
        "id": "Jneqboymhm2X"
      }
    },
    {
      "cell_type": "code",
      "execution_count": 72,
      "metadata": {
        "id": "Lf08wemLUtIu"
      },
      "outputs": [],
      "source": [
        "import numpy as np\n",
        "import matplotlib.pyplot as plt\n",
        "\n",
        "import tensorflow as tf\n",
        "from tensorflow.keras.layers import Dense\n",
        "from tensorflow.keras.models import Sequential\n"
      ]
    },
    {
      "cell_type": "markdown",
      "source": [
        "### Loading DATA"
      ],
      "metadata": {
        "id": "WvXdi4MjYC_q"
      }
    },
    {
      "cell_type": "code",
      "source": [
        "def load_coffee_data():\n",
        "    \"\"\" Creates a coffee roasting data set.\n",
        "        roasting duration: 12-15 minutes is best\n",
        "        temperature range: 175-260C is best\n",
        "    \"\"\"\n",
        "    rng = np.random.default_rng(2)\n",
        "    X = rng.random(400).reshape(-1,2)\n",
        "    X[:,1] = X[:,1] * 4 + 11.5          # 12-15 min is best\n",
        "    X[:,0] = X[:,0] * (285-150) + 150  # 350-500 F (175-260 C) is best\n",
        "    Y = np.zeros(len(X))\n",
        "\n",
        "    i=0\n",
        "    for t,d in X:\n",
        "        y = -3/(260-175)*t + 21\n",
        "        if (t > 175 and t < 260 and d > 12 and d < 15 and d<=y ):\n",
        "            Y[i] = 1\n",
        "        else:\n",
        "            Y[i] = 0\n",
        "        i += 1\n",
        "\n",
        "    return (X, Y.reshape(-1,1))"
      ],
      "metadata": {
        "id": "hQbXc-6CXsvD"
      },
      "execution_count": 73,
      "outputs": []
    },
    {
      "cell_type": "code",
      "source": [
        "X,Y = load_coffee_data();\n",
        "print(X.shape, Y.shape)"
      ],
      "metadata": {
        "colab": {
          "base_uri": "https://localhost:8080/"
        },
        "id": "Zew8umDTYG9Y",
        "outputId": "ef7cd429-a8ea-48cf-a393-361fc0278861"
      },
      "execution_count": 74,
      "outputs": [
        {
          "output_type": "stream",
          "name": "stdout",
          "text": [
            "(200, 2) (200, 1)\n"
          ]
        }
      ]
    },
    {
      "cell_type": "markdown",
      "source": [
        "### Normalizing data"
      ],
      "metadata": {
        "id": "uLk-l8H1YNTj"
      }
    },
    {
      "cell_type": "code",
      "source": [
        "print(f\"Temperature Max, Min pre normalization: {np.max(X[:,0]):0.2f}, {np.min(X[:,0]):0.2f}\")\n",
        "print(f\"Duration    Max, Min pre normalization: {np.max(X[:,1]):0.2f}, {np.min(X[:,1]):0.2f}\")"
      ],
      "metadata": {
        "colab": {
          "base_uri": "https://localhost:8080/"
        },
        "id": "XP0la7XHYLiP",
        "outputId": "e70eaca9-f818-41b0-86d4-d50086b8e456"
      },
      "execution_count": 75,
      "outputs": [
        {
          "output_type": "stream",
          "name": "stdout",
          "text": [
            "Temperature Max, Min pre normalization: 284.99, 151.32\n",
            "Duration    Max, Min pre normalization: 15.45, 11.51\n"
          ]
        }
      ]
    },
    {
      "cell_type": "code",
      "source": [
        "# normalize data\n",
        "norm_1 = tf.keras.layers.Normalization(axis=1)\n",
        "norm_1.adapt(X)\n",
        "Xn = norm_1(X)\n",
        "print(f\"Temperature Max, Min post normalization: {np.max(Xn[:,0]):0.2f}, {np.min(Xn[:,0]):0.2f}\")\n",
        "print(f\"Duration    Max, Min post normalization: {np.max(Xn[:,1]):0.2f}, {np.min(Xn[:,1]):0.2f}\")"
      ],
      "metadata": {
        "colab": {
          "base_uri": "https://localhost:8080/"
        },
        "id": "eKEe9GsYYUMx",
        "outputId": "38a2851a-c76b-4f21-f177-5439a96cf366"
      },
      "execution_count": 76,
      "outputs": [
        {
          "output_type": "stream",
          "name": "stdout",
          "text": [
            "Temperature Max, Min post normalization: 1.66, -1.69\n",
            "Duration    Max, Min post normalization: 1.79, -1.70\n"
          ]
        }
      ]
    },
    {
      "cell_type": "code",
      "source": [
        "def sigmoid(x):\n",
        "  return 1 / (1 + np.exp(-x))"
      ],
      "metadata": {
        "id": "2txqBDzTZTth"
      },
      "execution_count": 77,
      "outputs": []
    },
    {
      "cell_type": "markdown",
      "source": [
        "### Defining our own Dense and Sequential Function"
      ],
      "metadata": {
        "id": "Wc7bwQFFhcpI"
      }
    },
    {
      "cell_type": "code",
      "source": [
        "def Dense(a_in,W,b):\n",
        "  units=W.shape[1]\n",
        "  a_out=np.zeros(units)\n",
        "  for j in range(units):\n",
        "    w=W[:,j]\n",
        "    z=np.dot(a_in,w)+b[j]\n",
        "    a_out[j]=sigmoid(z)\n",
        "  return(a_out)\n"
      ],
      "metadata": {
        "id": "GrAD5sXJaPK5"
      },
      "execution_count": 78,
      "outputs": []
    },
    {
      "cell_type": "code",
      "source": [
        "def Sequential(x,w1,b1,w2,b2):\n",
        "  a1=Dense(x,w1,b1)\n",
        "  a2=Dense(a1,w2,b2)\n",
        "  return(a2)"
      ],
      "metadata": {
        "id": "7IWHQkIFbdqR"
      },
      "execution_count": 79,
      "outputs": []
    },
    {
      "cell_type": "markdown",
      "source": [
        "### Given WEIGTHS and BIAS's"
      ],
      "metadata": {
        "id": "DyrZDFGMcNCB"
      }
    },
    {
      "cell_type": "code",
      "source": [
        "W1 = np.array( [[-8.93,  0.29, 12.9 ], [-0.1,  -7.32, 10.81]] )\n",
        "b1 = np.array( [-9.82, -9.28,  0.96] )\n",
        "W2 = np.array( [[-31.18], [-27.59], [-32.56]] )\n",
        "b2 = np.array( [15.41] )"
      ],
      "metadata": {
        "id": "EJ6wc-bTcaUt"
      },
      "execution_count": 80,
      "outputs": []
    },
    {
      "cell_type": "markdown",
      "source": [
        "### Prediction function"
      ],
      "metadata": {
        "id": "8us89Os7csPR"
      }
    },
    {
      "cell_type": "code",
      "source": [
        "def prediction(X,W1,b1,W2,b2):\n",
        "  m=X.shape[0]\n",
        "  p=np.zeros((m,1))\n",
        "  for i in range(m):\n",
        "    p[i,0]=Sequential(X[i],W1,b1,W2,b2)\n",
        "\n",
        "  return(p)"
      ],
      "metadata": {
        "id": "s3xQeqUUceRj"
      },
      "execution_count": 81,
      "outputs": []
    },
    {
      "cell_type": "markdown",
      "source": [
        "# TESTING THE TRAINED MODEL"
      ],
      "metadata": {
        "id": "CubCjaRQg9n3"
      }
    },
    {
      "cell_type": "code",
      "source": [
        "X_tst = np.array([\n",
        "    [200,13.9],  # postive example\n",
        "    [200,17]])   # negative example"
      ],
      "metadata": {
        "id": "dK3g2pZldPrl"
      },
      "execution_count": 82,
      "outputs": []
    },
    {
      "cell_type": "code",
      "source": [
        "\n",
        "X_n=norm_1(X_tst) #normalizing\n",
        "q = prediction(X_n,W1,b1,W2,b2)\n",
        "print(q)"
      ],
      "metadata": {
        "colab": {
          "base_uri": "https://localhost:8080/"
        },
        "id": "r9A_eFl6dgvK",
        "outputId": "bdb13d6e-c4c3-47ec-c761-9a935613ecc6"
      },
      "execution_count": 83,
      "outputs": [
        {
          "output_type": "stream",
          "name": "stdout",
          "text": [
            "[[9.71931351e-01]\n",
            " [3.28978710e-08]]\n"
          ]
        },
        {
          "output_type": "stream",
          "name": "stderr",
          "text": [
            "/tmp/ipython-input-170590882.py:5: DeprecationWarning: Conversion of an array with ndim > 0 to a scalar is deprecated, and will error in future. Ensure you extract a single element from your array before performing this operation. (Deprecated NumPy 1.25.)\n",
            "  p[i,0]=Sequential(X[i],W1,b1,W2,b2)\n"
          ]
        }
      ]
    },
    {
      "cell_type": "markdown",
      "source": [
        "#### A Decision function to convert the probabilities to a DECISION"
      ],
      "metadata": {
        "id": "c1KNeO6Dg8SP"
      }
    },
    {
      "cell_type": "code",
      "source": [
        "def decision(prediction):\n",
        "  y=np.zeros_like(prediction)\n",
        "  for i in range(len(prediction)):\n",
        "    if prediction[i]>=0.5:\n",
        "      y[i]=1\n",
        "    else:\n",
        "      y[i]=0\n",
        "  print(\"DECISIONS = \",y)"
      ],
      "metadata": {
        "id": "LrM-8WYed07n"
      },
      "execution_count": 84,
      "outputs": []
    },
    {
      "cell_type": "code",
      "source": [
        "decision(q)\n"
      ],
      "metadata": {
        "colab": {
          "base_uri": "https://localhost:8080/"
        },
        "id": "zQXGZcwjghv_",
        "outputId": "d18b1e62-27a3-4a9c-ccc4-881e306ca0fc"
      },
      "execution_count": 85,
      "outputs": [
        {
          "output_type": "stream",
          "name": "stdout",
          "text": [
            "DECISIONS =  [[1.]\n",
            " [0.]]\n"
          ]
        }
      ]
    },
    {
      "cell_type": "code",
      "source": [],
      "metadata": {
        "id": "TB29OeQzg62l"
      },
      "execution_count": 85,
      "outputs": []
    }
  ]
}